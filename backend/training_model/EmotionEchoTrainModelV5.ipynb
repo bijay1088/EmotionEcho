{
  "nbformat": 4,
  "nbformat_minor": 0,
  "metadata": {
    "colab": {
      "provenance": [],
      "gpuType": "T4"
    },
    "kernelspec": {
      "name": "python3",
      "display_name": "Python 3"
    },
    "language_info": {
      "name": "python"
    },
    "accelerator": "GPU"
  },
  "cells": [
    {
      "cell_type": "markdown",
      "source": [
        "**This is the code for taining the model that recognises facial emotion from the picture.\n",
        "This is the 5th version which resulted in highest accuracy among other code**"
      ],
      "metadata": {
        "id": "ymNJ_rkYnq0b"
      }
    },
    {
      "cell_type": "code",
      "execution_count": null,
      "metadata": {
        "id": "dQAF89uc3dir"
      },
      "outputs": [],
      "source": [
        "#importing necessary libraries\n",
        "import os\n",
        "import matplotlib.pyplot as plt\n",
        "import tensorflow as tf\n",
        "from tensorflow.keras import layers\n",
        "from tensorflow import keras\n",
        "import cv2\n",
        "import random\n",
        "import numpy as np\n",
        "from tensorflow.keras.preprocessing.image import ImageDataGenerator\n",
        "from tensorflow.keras.callbacks import ReduceLROnPlateau\n",
        "\n",
        "import zipfile\n"
      ]
    },
    {
      "cell_type": "code",
      "source": [
        "##unzip files\n",
        "\n",
        "def unzip_file(zip_path, extract_to='.'):\n",
        "    with zipfile.ZipFile(zip_path, 'r') as zip_ref:\n",
        "        zip_ref.extractall(extract_to)\n",
        "    print(f\"Unzipped {zip_path} to {extract_to}\")\n",
        "\n",
        "\n",
        "unzip_file(\"dataset/FER2013.zip\", \"dataset/\")\n"
      ],
      "metadata": {
        "colab": {
          "base_uri": "https://localhost:8080/"
        },
        "id": "-nylDVuBD2o_",
        "outputId": "59583fec-2112-489f-e478-a08115497550"
      },
      "execution_count": null,
      "outputs": [
        {
          "output_type": "stream",
          "name": "stdout",
          "text": [
            "Unzipped dataset/FER2013.zip to dataset/\n"
          ]
        }
      ]
    },
    {
      "cell_type": "code",
      "source": [
        "#directory\n",
        "trainDataDir = \"dataset/train/\"\n",
        "testDataDir = \"dataset/test/\"\n",
        "\n",
        "classes = [\"angry\", \"disgust\", \"fear\", \"happy\", \"neutral\", \"sad\", \"surprise\"] #all the classes from the dataset\n",
        "\n"
      ],
      "metadata": {
        "id": "fiNQSZhxFINh"
      },
      "execution_count": null,
      "outputs": []
    },
    {
      "cell_type": "code",
      "source": [
        "#displaying image\n",
        "img_array = cv2.imread(\"dataset/train/angry/Training_10118481.jpg\")\n",
        "\n",
        "plt.imshow(img_array)"
      ],
      "metadata": {
        "colab": {
          "base_uri": "https://localhost:8080/",
          "height": 448
        },
        "id": "0YE-eWE3Fu1G",
        "outputId": "0ef43bbf-12b8-4d79-8bef-57207585bdec"
      },
      "execution_count": null,
      "outputs": [
        {
          "output_type": "execute_result",
          "data": {
            "text/plain": [
              "<matplotlib.image.AxesImage at 0x7b9a701e92d0>"
            ]
          },
          "metadata": {},
          "execution_count": 5
        },
        {
          "output_type": "display_data",
          "data": {
            "text/plain": [
              "<Figure size 640x480 with 1 Axes>"
            ],
            "image/png": "[encoded data removed]"
          },
          "metadata": {}
        }
      ]
    },
    {
      "cell_type": "code",
      "source": [
        "# creating ImageDataGenerator for training\n",
        "# we are augmenting the data to make model learn properly.\n",
        "# We are trying to avoid model from learning specific pattern so changing the image makes the model a little more accurate.\n",
        "trainDataGen = ImageDataGenerator(\n",
        "    rescale=1.0/255.0,         # we are normalising pixel value to similar range, helps with training\n",
        "    rotation_range=10,         # ratotaing the data by little bit. since rotating too much might remove facial expression and image is really small.\n",
        "    width_shift_range=0.05,    # same as before\n",
        "    height_shift_range=0.05,   # same as before\n",
        "    zoom_range=0.1,            # zomming by little bit since image is small and don't want to remove necassary data\n",
        "    horizontal_flip=True,      # flipping the image\n",
        "    fill_mode=\"nearest\"        # filling the gap that exists after transforming\n",
        ")\n",
        "\n",
        "# creating ImageDataGenerator for testing\n",
        "# we are only rescaling test data since I want to avoid using too much resource\n",
        "testDataGen = ImageDataGenerator(\n",
        "    rescale=1.0/255.0\n",
        ")\n"
      ],
      "metadata": {
        "id": "ZrL591OOJR9f"
      },
      "execution_count": null,
      "outputs": []
    },
    {
      "cell_type": "code",
      "source": [
        "trainGenerator = trainDataGen.flow_from_directory(\n",
        "    trainDataDir,\n",
        "    target_size=(224, 224),  # Resize images to match the input size of model\n",
        "    batch_size=64,           # Number of samples per batch\n",
        "    class_mode='sparse', # providing the labels as int\n",
        "    shuffle=True  # shuffling the image to prevent it from learning the pattern\n",
        ")\n",
        "\n",
        "testGenerator = testDataGen.flow_from_directory(\n",
        "    testDataDir,\n",
        "    target_size=(224, 224),\n",
        "    batch_size=64,\n",
        "    class_mode='sparse',\n",
        ")"
      ],
      "metadata": {
        "colab": {
          "base_uri": "https://localhost:8080/"
        },
        "id": "5YR_m8HXXw1y",
        "outputId": "90a5fddc-f959-4b99-a383-83478fbbc2fa"
      },
      "execution_count": null,
      "outputs": [
        {
          "output_type": "stream",
          "name": "stdout",
          "text": [
            "Found 28709 images belonging to 7 classes.\n",
            "Found 7178 images belonging to 7 classes.\n"
          ]
        }
      ]
    },
    {
      "cell_type": "code",
      "source": [
        "#loading the model\n",
        "model = tf.keras.applications.MobileNetV2(input_shape=(224, 224, 3), include_top=False)\n",
        "#model.summary()"
      ],
      "metadata": {
        "id": "BEu9BL5Yc5ko",
        "colab": {
          "base_uri": "https://localhost:8080/"
        },
        "outputId": "6c90cb29-6042-4c3f-894e-bee34937ffd9"
      },
      "execution_count": null,
      "outputs": [
        {
          "output_type": "stream",
          "name": "stdout",
          "text": [
            "Downloading data from https://storage.googleapis.com/tensorflow/keras-applications/mobilenet_v2/mobilenet_v2_weights_tf_dim_ordering_tf_kernels_1.0_224_no_top.h5\n",
            "\u001b[1m9406464/9406464\u001b[0m \u001b[32m━━━━━━━━━━━━━━━━━━━━\u001b[0m\u001b[37m\u001b[0m \u001b[1m1s\u001b[0m 0us/step\n"
          ]
        }
      ]
    },
    {
      "cell_type": "markdown",
      "source": [],
      "metadata": {
        "id": "ZNsWhTtdTUm0"
      }
    },
    {
      "cell_type": "code",
      "source": [
        "#removing the premade layer and adding our own\n",
        "from tensorflow.keras.layers import Dropout\n",
        "baseInput = model.input\n",
        "baseOutput = model.layers[-1].output\n",
        "\n",
        "# Custom fully connected layers\n",
        "\n",
        "finalOutput = layers.GlobalAveragePooling2D()(baseOutput)\n",
        "finalOutput = layers.Dense(128)(finalOutput)\n",
        "finalOutput = layers.Activation(\"relu\")(finalOutput)\n",
        "finalOutput = Dropout(0.5)(finalOutput)\n",
        "finalOutput = layers.Dense(64)(finalOutput)\n",
        "finalOutput = layers.Activation(\"relu\")(finalOutput)\n",
        "finalOutput = Dropout(0.5)(finalOutput)\n",
        "finalOutput = layers.Dense(7, activation=\"softmax\")(finalOutput)"
      ],
      "metadata": {
        "id": "oxnz4fwoRNRq"
      },
      "execution_count": null,
      "outputs": []
    },
    {
      "cell_type": "code",
      "source": [
        "#creating new model\n",
        "newModel = keras.Model(inputs = baseInput, outputs = finalOutput)"
      ],
      "metadata": {
        "id": "uhr-T3ujQoJG"
      },
      "execution_count": null,
      "outputs": []
    },
    {
      "cell_type": "code",
      "source": [
        "#compiling the model\n",
        "newModel.compile(loss=\"sparse_categorical_crossentropy\", optimizer=\"adam\", metrics=[\"accuracy\"])"
      ],
      "metadata": {
        "id": "E0ruI7UeL78P"
      },
      "execution_count": null,
      "outputs": []
    },
    {
      "cell_type": "code",
      "source": [
        "#making a function to decrease learning rate when the model has stopped improving\n",
        "\n",
        "lr_scheduler = ReduceLROnPlateau(\n",
        "    monitor='val_loss',\n",
        "    factor=0.5,\n",
        "    patience=3,\n",
        "    verbose=1,\n",
        "    min_lr=1e-6\n",
        ")"
      ],
      "metadata": {
        "id": "wAUY6EyEB6di"
      },
      "execution_count": null,
      "outputs": []
    },
    {
      "cell_type": "code",
      "source": [
        "#training the model\n",
        "newModel.fit(\n",
        "    trainGenerator,\n",
        "    epochs=20,\n",
        "    validation_data=testGenerator,\n",
        "    callbacks=[lr_scheduler]\n",
        ")"
      ],
      "metadata": {
        "colab": {
          "base_uri": "https://localhost:8080/"
        },
        "id": "q6K5hSJZMCXd",
        "outputId": "059a7e2c-134b-4ef2-d0fc-2122a7e2f546"
      },
      "execution_count": null,
      "outputs": [
        {
          "output_type": "stream",
          "name": "stdout",
          "text": [
            "Epoch 1/20\n",
            "\u001b[1m449/449\u001b[0m \u001b[32m━━━━━━━━━━━━━━━━━━━━\u001b[0m\u001b[37m\u001b[0m \u001b[1m384s\u001b[0m 841ms/step - accuracy: 0.6800 - loss: 0.8958 - val_accuracy: 0.5577 - val_loss: 1.5157 - learning_rate: 5.0000e-04\n",
            "Epoch 2/20\n",
            "\u001b[1m449/449\u001b[0m \u001b[32m━━━━━━━━━━━━━━━━━━━━\u001b[0m\u001b[37m\u001b[0m \u001b[1m427s\u001b[0m 809ms/step - accuracy: 0.6917 - loss: 0.8646 - val_accuracy: 0.6291 - val_loss: 1.0111 - learning_rate: 5.0000e-04\n",
            "Epoch 3/20\n",
            "\u001b[1m449/449\u001b[0m \u001b[32m━━━━━━━━━━━━━━━━━━━━\u001b[0m\u001b[37m\u001b[0m \u001b[1m381s\u001b[0m 808ms/step - accuracy: 0.6959 - loss: 0.8589 - val_accuracy: 0.6343 - val_loss: 1.0103 - learning_rate: 5.0000e-04\n",
            "Epoch 4/20\n",
            "\u001b[1m449/449\u001b[0m \u001b[32m━━━━━━━━━━━━━━━━━━━━\u001b[0m\u001b[37m\u001b[0m \u001b[1m381s\u001b[0m 809ms/step - accuracy: 0.7056 - loss: 0.8330 - val_accuracy: 0.6010 - val_loss: 1.2156 - learning_rate: 5.0000e-04\n",
            "Epoch 5/20\n",
            "\u001b[1m449/449\u001b[0m \u001b[32m━━━━━━━━━━━━━━━━━━━━\u001b[0m\u001b[37m\u001b[0m \u001b[1m377s\u001b[0m 830ms/step - accuracy: 0.7215 - loss: 0.8016 - val_accuracy: 0.6369 - val_loss: 1.0113 - learning_rate: 5.0000e-04\n",
            "Epoch 6/20\n",
            "\u001b[1m449/449\u001b[0m \u001b[32m━━━━━━━━━━━━━━━━━━━━\u001b[0m\u001b[37m\u001b[0m \u001b[1m0s\u001b[0m 784ms/step - accuracy: 0.7221 - loss: 0.7898\n",
            "Epoch 6: ReduceLROnPlateau reducing learning rate to 0.0002500000118743628.\n",
            "\u001b[1m449/449\u001b[0m \u001b[32m━━━━━━━━━━━━━━━━━━━━\u001b[0m\u001b[37m\u001b[0m \u001b[1m371s\u001b[0m 812ms/step - accuracy: 0.7221 - loss: 0.7898 - val_accuracy: 0.6121 - val_loss: 1.0854 - learning_rate: 5.0000e-04\n",
            "Epoch 7/20\n",
            "\u001b[1m449/449\u001b[0m \u001b[32m━━━━━━━━━━━━━━━━━━━━\u001b[0m\u001b[37m\u001b[0m \u001b[1m372s\u001b[0m 815ms/step - accuracy: 0.7386 - loss: 0.7422 - val_accuracy: 0.6661 - val_loss: 0.9275 - learning_rate: 2.5000e-04\n",
            "Epoch 8/20\n",
            "\u001b[1m449/449\u001b[0m \u001b[32m━━━━━━━━━━━━━━━━━━━━\u001b[0m\u001b[37m\u001b[0m \u001b[1m381s\u001b[0m 812ms/step - accuracy: 0.7584 - loss: 0.6916 - val_accuracy: 0.6776 - val_loss: 0.9269 - learning_rate: 2.5000e-04\n",
            "Epoch 9/20\n",
            "\u001b[1m449/449\u001b[0m \u001b[32m━━━━━━━━━━━━━━━━━━━━\u001b[0m\u001b[37m\u001b[0m \u001b[1m391s\u001b[0m 833ms/step - accuracy: 0.7628 - loss: 0.6803 - val_accuracy: 0.6736 - val_loss: 0.9465 - learning_rate: 2.5000e-04\n",
            "Epoch 10/20\n",
            "\u001b[1m449/449\u001b[0m \u001b[32m━━━━━━━━━━━━━━━━━━━━\u001b[0m\u001b[37m\u001b[0m \u001b[1m373s\u001b[0m 820ms/step - accuracy: 0.7756 - loss: 0.6401 - val_accuracy: 0.6734 - val_loss: 0.9686 - learning_rate: 2.5000e-04\n",
            "Epoch 11/20\n",
            "\u001b[1m449/449\u001b[0m \u001b[32m━━━━━━━━━━━━━━━━━━━━\u001b[0m\u001b[37m\u001b[0m \u001b[1m0s\u001b[0m 797ms/step - accuracy: 0.7867 - loss: 0.6307\n",
            "Epoch 11: ReduceLROnPlateau reducing learning rate to 0.0001250000059371814.\n",
            "\u001b[1m449/449\u001b[0m \u001b[32m━━━━━━━━━━━━━━━━━━━━\u001b[0m\u001b[37m\u001b[0m \u001b[1m375s\u001b[0m 825ms/step - accuracy: 0.7867 - loss: 0.6307 - val_accuracy: 0.6610 - val_loss: 1.0051 - learning_rate: 2.5000e-04\n",
            "Epoch 12/20\n",
            "\u001b[1m449/449\u001b[0m \u001b[32m━━━━━━━━━━━━━━━━━━━━\u001b[0m\u001b[37m\u001b[0m \u001b[1m370s\u001b[0m 812ms/step - accuracy: 0.7969 - loss: 0.5873 - val_accuracy: 0.6708 - val_loss: 1.0154 - learning_rate: 1.2500e-04\n",
            "Epoch 13/20\n",
            "\u001b[1m449/449\u001b[0m \u001b[32m━━━━━━━━━━━━━━━━━━━━\u001b[0m\u001b[37m\u001b[0m \u001b[1m382s\u001b[0m 813ms/step - accuracy: 0.8099 - loss: 0.5561 - val_accuracy: 0.6767 - val_loss: 0.9977 - learning_rate: 1.2500e-04\n",
            "Epoch 14/20\n",
            "\u001b[1m449/449\u001b[0m \u001b[32m━━━━━━━━━━━━━━━━━━━━\u001b[0m\u001b[37m\u001b[0m \u001b[1m0s\u001b[0m 784ms/step - accuracy: 0.8128 - loss: 0.5402\n",
            "Epoch 14: ReduceLROnPlateau reducing learning rate to 6.25000029685907e-05.\n",
            "\u001b[1m449/449\u001b[0m \u001b[32m━━━━━━━━━━━━━━━━━━━━\u001b[0m\u001b[37m\u001b[0m \u001b[1m378s\u001b[0m 829ms/step - accuracy: 0.8128 - loss: 0.5403 - val_accuracy: 0.6753 - val_loss: 1.0156 - learning_rate: 1.2500e-04\n",
            "Epoch 15/20\n",
            "\u001b[1m449/449\u001b[0m \u001b[32m━━━━━━━━━━━━━━━━━━━━\u001b[0m\u001b[37m\u001b[0m \u001b[1m371s\u001b[0m 806ms/step - accuracy: 0.8255 - loss: 0.5154 - val_accuracy: 0.6900 - val_loss: 1.0018 - learning_rate: 6.2500e-05\n",
            "Epoch 16/20\n",
            "\u001b[1m449/449\u001b[0m \u001b[32m━━━━━━━━━━━━━━━━━━━━\u001b[0m\u001b[37m\u001b[0m \u001b[1m383s\u001b[0m 809ms/step - accuracy: 0.8263 - loss: 0.4982 - val_accuracy: 0.6893 - val_loss: 1.0319 - learning_rate: 6.2500e-05\n",
            "Epoch 17/20\n",
            "\u001b[1m449/449\u001b[0m \u001b[32m━━━━━━━━━━━━━━━━━━━━\u001b[0m\u001b[37m\u001b[0m \u001b[1m0s\u001b[0m 782ms/step - accuracy: 0.8337 - loss: 0.4925\n",
            "Epoch 17: ReduceLROnPlateau reducing learning rate to 3.125000148429535e-05.\n",
            "\u001b[1m449/449\u001b[0m \u001b[32m━━━━━━━━━━━━━━━━━━━━\u001b[0m\u001b[37m\u001b[0m \u001b[1m369s\u001b[0m 810ms/step - accuracy: 0.8337 - loss: 0.4925 - val_accuracy: 0.6897 - val_loss: 1.0309 - learning_rate: 6.2500e-05\n",
            "Epoch 18/20\n",
            "\u001b[1m449/449\u001b[0m \u001b[32m━━━━━━━━━━━━━━━━━━━━\u001b[0m\u001b[37m\u001b[0m \u001b[1m370s\u001b[0m 813ms/step - accuracy: 0.8381 - loss: 0.4852 - val_accuracy: 0.6910 - val_loss: 1.0347 - learning_rate: 3.1250e-05\n",
            "Epoch 19/20\n",
            "\u001b[1m449/449\u001b[0m \u001b[32m━━━━━━━━━━━━━━━━━━━━\u001b[0m\u001b[37m\u001b[0m \u001b[1m372s\u001b[0m 819ms/step - accuracy: 0.8420 - loss: 0.4656 - val_accuracy: 0.6872 - val_loss: 1.0497 - learning_rate: 3.1250e-05\n",
            "Epoch 20/20\n",
            "\u001b[1m449/449\u001b[0m \u001b[32m━━━━━━━━━━━━━━━━━━━━\u001b[0m\u001b[37m\u001b[0m \u001b[1m0s\u001b[0m 787ms/step - accuracy: 0.8421 - loss: 0.4643\n",
            "Epoch 20: ReduceLROnPlateau reducing learning rate to 1.5625000742147677e-05.\n",
            "\u001b[1m449/449\u001b[0m \u001b[32m━━━━━━━━━━━━━━━━━━━━\u001b[0m\u001b[37m\u001b[0m \u001b[1m371s\u001b[0m 815ms/step - accuracy: 0.8421 - loss: 0.4643 - val_accuracy: 0.6889 - val_loss: 1.0505 - learning_rate: 3.1250e-05\n"
          ]
        },
        {
          "output_type": "execute_result",
          "data": {
            "text/plain": [
              "<keras.src.callbacks.history.History at 0x7b9a702b7820>"
            ]
          },
          "metadata": {},
          "execution_count": 14
        }
      ]
    },
    {
      "cell_type": "code",
      "source": [
        "#saving the model to use on other project\n",
        "newModel.save('EmotionEcho_v5.keras')"
      ],
      "metadata": {
        "id": "WCV29qYT62Ck"
      },
      "execution_count": null,
      "outputs": []
    }
  ]
}